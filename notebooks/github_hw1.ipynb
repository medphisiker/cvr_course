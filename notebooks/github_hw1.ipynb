{
  "nbformat": 4,
  "nbformat_minor": 0,
  "metadata": {
    "kernelspec": {
      "display_name": "Python 3",
      "language": "python",
      "name": "python3"
    },
    "language_info": {
      "codemirror_mode": {
        "name": "ipython",
        "version": 3
      },
      "file_extension": ".py",
      "mimetype": "text/x-python",
      "name": "python",
      "nbconvert_exporter": "python",
      "pygments_lexer": "ipython3",
      "version": "3.6.9"
    },
    "colab": {
      "name": "github_hw1.ipynb",
      "provenance": [],
      "collapsed_sections": [],
      "toc_visible": true,
      "include_colab_link": true
    }
  },
  "cells": [
    {
      "cell_type": "markdown",
      "metadata": {
        "id": "view-in-github",
        "colab_type": "text"
      },
      "source": [
        "<a href=\"https://colab.research.google.com/github/medphisiker/cvr_course/blob/main/notebooks/github_hw1.ipynb\" target=\"_parent\"><img src=\"https://colab.research.google.com/assets/colab-badge.svg\" alt=\"Open In Colab\"/></a>"
      ]
    },
    {
      "cell_type": "markdown",
      "metadata": {
        "id": "xLxTXwL_9u_j"
      },
      "source": [
        "# Домашнее задание\n",
        "Домашнее задание выполнять в этой тетрадке. \n",
        "\n",
        "- [x] Сделать fork репозитория cvr_cource (https://github.com/StarkitRobots/cvr_course) - 1 балл\n",
        "- [x] Создать ветку update_readme - 1 балл\n",
        "- [x] Добавить одну строчку в README.md \n",
        "- [x] Запушить (git push) изменения в ветку update_readme - 3 балла\n",
        "- [x] Слить (merge) ветку update_readme в ветку develop - 1 балл\n",
        "- [x] Сохранить эту тетрадку с выполненной домашкой себе в репозиторий в ветку develop - 3 балла\n",
        "- [x] Слить (merge) ветку develop в ветку main - 1 балл"
      ]
    },
    {
      "cell_type": "markdown",
      "metadata": {
        "id": "8nnN9ARp9u_k"
      },
      "source": [
        "Материалы к семинару:\n",
        "1. [Удачная модель ветвления](https://m.habr.com/ru/post/106912/)\n",
        "2. [Зачем нужен Git](https://guides.hexlet.io/git-guide/)\n",
        "3. [Самые популярные ошибки и их решения](https://tproger.ru/translations/most-common-git-screwupsquestions-and-solutions/)\n",
        "4. [Ветвление](https://git-scm.com/book/ru/v2/%D0%92%D0%B5%D1%82%D0%B2%D0%BB%D0%B5%D0%BD%D0%B8%D0%B5-%D0%B2-Git-%D0%9E-%D0%B2%D0%B5%D1%82%D0%B2%D0%BB%D0%B5%D0%BD%D0%B8%D0%B8-%D0%B2-%D0%B4%D0%B2%D1%83%D1%85-%D1%81%D0%BB%D0%BE%D0%B2%D0%B0%D1%85)\n",
        "5. [Инструкция по всему Git](https://git-scm.com/book/ru/v2)\n",
        "6. [Приложение для обучения Git](https://learngitbranching.js.org/?locale=ru_RU), спасибо Анне Касаткиной за ссылку на отличный материал"
      ]
    },
    {
      "cell_type": "code",
      "metadata": {
        "id": "havTSPzvI_0h"
      },
      "source": [
        "# представляемся системе git\n",
        "!git config --global user.email \"med_phisiker@mail.ru\"\n",
        "!git config --global user.name \"Anton Shiryaev\""
      ],
      "execution_count": 1,
      "outputs": []
    },
    {
      "cell_type": "code",
      "metadata": {
        "id": "_bGm8uHNMPTT",
        "outputId": "533a620c-11f6-4536-ab16-50dd5b71c131",
        "colab": {
          "base_uri": "https://localhost:8080/",
          "height": 34
        }
      },
      "source": [
        "# подключу Google диск со своим github токеном\n",
        "from google.colab import drive\n",
        "drive.mount('/content/drive')"
      ],
      "execution_count": 2,
      "outputs": [
        {
          "output_type": "stream",
          "text": [
            "Mounted at /content/drive\n"
          ],
          "name": "stdout"
        }
      ]
    },
    {
      "cell_type": "code",
      "metadata": {
        "id": "fNCTtRvnMvxl"
      },
      "source": [
        "# прочитаем токен git hub с google диска\n",
        "with open('/content/drive/My Drive/github_token/token.txt') as f:\n",
        "    token = f.readline()"
      ],
      "execution_count": 3,
      "outputs": []
    },
    {
      "cell_type": "code",
      "metadata": {
        "id": "NdBH53-tRnQ1"
      },
      "source": [
        "import os\n",
        "\n",
        "GIT_USERNAME = 'medphisiker'\n",
        "GIT_REPOSITORY = 'cvr_course'\n",
        "GITHUB_TOKEN = token\n",
        "GIT_PATH = \"https://\" + GITHUB_TOKEN + \"@github.com/\" + GIT_USERNAME + \"/\" + GIT_REPOSITORY + \".git\""
      ],
      "execution_count": 4,
      "outputs": []
    },
    {
      "cell_type": "code",
      "metadata": {
        "id": "bIzu_pI6KimM",
        "outputId": "d63427a9-4f8e-466f-a3af-d52734c36355",
        "colab": {
          "base_uri": "https://localhost:8080/",
          "height": 85
        }
      },
      "source": [
        "# предварительно я уже forkнул репозиторий к себе на github аккаунт\n",
        "!git clone \"{GIT_PATH}\""
      ],
      "execution_count": 5,
      "outputs": [
        {
          "output_type": "stream",
          "text": [
            "Cloning into 'cvr_course'...\n",
            "remote: Enumerating objects: 87, done.\u001b[K\n",
            "remote: Total 87 (delta 0), reused 0 (delta 0), pack-reused 87\u001b[K\n",
            "Unpacking objects: 100% (87/87), done.\n"
          ],
          "name": "stdout"
        }
      ]
    },
    {
      "cell_type": "code",
      "metadata": {
        "id": "yjSYguCt0JN7",
        "outputId": "59c659df-bc23-46c7-bd39-77cb87d49005",
        "colab": {
          "base_uri": "https://localhost:8080/",
          "height": 34
        }
      },
      "source": [
        "# перейдем в папку\n",
        "%cd cvr_course"
      ],
      "execution_count": 6,
      "outputs": [
        {
          "output_type": "stream",
          "text": [
            "/content/cvr_course\n"
          ],
          "name": "stdout"
        }
      ]
    },
    {
      "cell_type": "code",
      "metadata": {
        "id": "IbvdNYqBvdbw",
        "outputId": "36de68b9-38a5-4a7e-c33f-4f7058469f2c",
        "colab": {
          "base_uri": "https://localhost:8080/",
          "height": 34
        }
      },
      "source": [
        "# Посмотрим на имеющиеся ветки в git-репозитории\n",
        "!git branch"
      ],
      "execution_count": 8,
      "outputs": [
        {
          "output_type": "stream",
          "text": [
            "* \u001b[32mmain\u001b[m\n"
          ],
          "name": "stdout"
        }
      ]
    },
    {
      "cell_type": "code",
      "metadata": {
        "id": "LR87Flc50CfZ",
        "outputId": "2c25a9e2-a134-481c-a985-49e3ecb7c042",
        "colab": {
          "base_uri": "https://localhost:8080/",
          "height": 85
        }
      },
      "source": [
        "# посмотрим статус\n",
        "!git status"
      ],
      "execution_count": 9,
      "outputs": [
        {
          "output_type": "stream",
          "text": [
            "On branch main\n",
            "Your branch is up to date with 'origin/main'.\n",
            "\n",
            "nothing to commit, working tree clean\n"
          ],
          "name": "stdout"
        }
      ]
    },
    {
      "cell_type": "code",
      "metadata": {
        "id": "K_a_nvaj9u_k"
      },
      "source": [
        "# Создадим ветку update_readme\n",
        "!git branch update_readme"
      ],
      "execution_count": 10,
      "outputs": []
    },
    {
      "cell_type": "code",
      "metadata": {
        "id": "LHxJeQJj1Kua",
        "outputId": "d5b1538e-bd72-4c47-882c-c0471df525b5",
        "colab": {
          "base_uri": "https://localhost:8080/",
          "height": 51
        }
      },
      "source": [
        "# Посмотрим на имеющиеся ветки в git-репозитории\n",
        "!git branch"
      ],
      "execution_count": 11,
      "outputs": [
        {
          "output_type": "stream",
          "text": [
            "* \u001b[32mmain\u001b[m\n",
            "  update_readme\u001b[m\n"
          ],
          "name": "stdout"
        }
      ]
    },
    {
      "cell_type": "code",
      "metadata": {
        "id": "6Eq2IMfL3taX",
        "outputId": "a2ff3575-7c47-4193-afbc-06f39687cf3e",
        "colab": {
          "base_uri": "https://localhost:8080/",
          "height": 34
        }
      },
      "source": [
        "# переключимся на новую созданную нами ветку\n",
        "! git checkout update_readme"
      ],
      "execution_count": 12,
      "outputs": [
        {
          "output_type": "stream",
          "text": [
            "Switched to branch 'update_readme'\n"
          ],
          "name": "stdout"
        }
      ]
    },
    {
      "cell_type": "code",
      "metadata": {
        "id": "JJ145HU4G-at",
        "outputId": "4b2f9949-0c31-4833-fc6e-cf4ff6d6bc59",
        "colab": {
          "base_uri": "https://localhost:8080/",
          "height": 51
        }
      },
      "source": [
        "# убедимся, что переключились\n",
        "!git branch"
      ],
      "execution_count": 13,
      "outputs": [
        {
          "output_type": "stream",
          "text": [
            "  main\u001b[m\n",
            "* \u001b[32mupdate_readme\u001b[m\n"
          ],
          "name": "stdout"
        }
      ]
    },
    {
      "cell_type": "code",
      "metadata": {
        "id": "lBaanM4E1uWE",
        "outputId": "30610d42-934e-48f4-fa85-bd5eb2a69af0",
        "colab": {
          "base_uri": "https://localhost:8080/",
          "height": 34
        }
      },
      "source": [
        "# посмотрим файлы в директории в которой мы сейчас находимся\n",
        "!ls"
      ],
      "execution_count": 14,
      "outputs": [
        {
          "output_type": "stream",
          "text": [
            "data  notebooks  README.md\n"
          ],
          "name": "stdout"
        }
      ]
    },
    {
      "cell_type": "code",
      "metadata": {
        "id": "v1gBt66m1wKb"
      },
      "source": [
        "# допишем свою строку в файл README.md\n",
        "!echo \"\\n The new line in file\" >> README.md"
      ],
      "execution_count": 15,
      "outputs": []
    },
    {
      "cell_type": "code",
      "metadata": {
        "id": "qD4CeWXj2FPQ",
        "outputId": "65f7d51c-5bbd-428a-9ee4-3772a90c8be0",
        "colab": {
          "base_uri": "https://localhost:8080/",
          "height": 153
        }
      },
      "source": [
        "# посмотрим на файл\n",
        "!cat README.md # строка дописана"
      ],
      "execution_count": 16,
      "outputs": [
        {
          "output_type": "stream",
          "text": [
            "# Computer Vision in Robotics\n",
            "\n",
            "<img src=\"./.img/logo_for_form.png\" height=\"350\" />\n",
            "\n",
            "\n",
            "Visit our site <https://www.starkitrobots.com/cvr> to check content.\n",
            "Course is online and will be carried out on our *[YouTube chanel](https://www.youtube.com/channel/UC0QPJgfg17wCqf4-hG_A5OA)*.\n",
            "\\n The new line in file\n"
          ],
          "name": "stdout"
        }
      ]
    },
    {
      "cell_type": "code",
      "metadata": {
        "id": "q8B2FF2d2PQe",
        "outputId": "f3dd8913-834c-43a1-81ab-cd7d108b721d",
        "colab": {
          "base_uri": "https://localhost:8080/",
          "height": 153
        }
      },
      "source": [
        "# теперь нам есть что за коммитить\n",
        "!git status"
      ],
      "execution_count": 17,
      "outputs": [
        {
          "output_type": "stream",
          "text": [
            "On branch update_readme\n",
            "Changes not staged for commit:\n",
            "  (use \"git add <file>...\" to update what will be committed)\n",
            "  (use \"git checkout -- <file>...\" to discard changes in working directory)\n",
            "\n",
            "\t\u001b[31mmodified:   README.md\u001b[m\n",
            "\n",
            "no changes added to commit (use \"git add\" and/or \"git commit -a\")\n"
          ],
          "name": "stdout"
        }
      ]
    },
    {
      "cell_type": "code",
      "metadata": {
        "id": "p8KHdyV3BiRP"
      },
      "source": [
        "# соединяемся с удаленным репозиторием у меня в github аккаунте\n",
        "!git remote add origin-psk \"{GIT_PATH}\""
      ],
      "execution_count": 18,
      "outputs": []
    },
    {
      "cell_type": "code",
      "metadata": {
        "id": "7Qoz-vR63eeI",
        "outputId": "5469f736-ad91-45c2-8496-df45966f3639",
        "colab": {
          "base_uri": "https://localhost:8080/",
          "height": 51
        }
      },
      "source": [
        "!git add README.md\n",
        "!git commit -m \"Update README.md\""
      ],
      "execution_count": 19,
      "outputs": [
        {
          "output_type": "stream",
          "text": [
            "[update_readme 4c341ef] Update README.md\n",
            " 1 file changed, 1 insertion(+)\n"
          ],
          "name": "stdout"
        }
      ]
    },
    {
      "cell_type": "code",
      "metadata": {
        "id": "aZwa3CPUBNke",
        "outputId": "33b16717-7a9b-4e3d-89af-9b01ab550e7e",
        "colab": {
          "base_uri": "https://localhost:8080/",
          "height": 221
        }
      },
      "source": [
        "# сохраняем ветку update_readme к себе на github через push\n",
        "# можно или так или так =)\n",
        "#!git push \"{GIT_PATH}\" update_readme\n",
        "!git push origin-psk update_readme"
      ],
      "execution_count": 20,
      "outputs": [
        {
          "output_type": "stream",
          "text": [
            "Counting objects: 3, done.\n",
            "Delta compression using up to 2 threads.\n",
            "Compressing objects:  33% (1/3)   \rCompressing objects:  66% (2/3)   \rCompressing objects: 100% (3/3)   \rCompressing objects: 100% (3/3), done.\n",
            "Writing objects:  33% (1/3)   \rWriting objects:  66% (2/3)   \rWriting objects: 100% (3/3)   \rWriting objects: 100% (3/3), 321 bytes | 321.00 KiB/s, done.\n",
            "Total 3 (delta 2), reused 0 (delta 0)\n",
            "remote: Resolving deltas: 100% (2/2), completed with 2 local objects.\u001b[K\n",
            "remote: \n",
            "remote: Create a pull request for 'update_readme' on GitHub by visiting:\u001b[K\n",
            "remote:      https://github.com/medphisiker/cvr_course/pull/new/update_readme\u001b[K\n",
            "remote: \n",
            "To https://github.com/medphisiker/cvr_course.git\n",
            " * [new branch]      update_readme -> update_readme\n"
          ],
          "name": "stdout"
        }
      ]
    },
    {
      "cell_type": "code",
      "metadata": {
        "id": "2pkVamFVkr5_",
        "outputId": "8d9959a0-0508-425b-a3b5-112dee91ea5b",
        "colab": {
          "base_uri": "https://localhost:8080/",
          "height": 51
        }
      },
      "source": [
        "# посмотрим статус\n",
        "!git status"
      ],
      "execution_count": 21,
      "outputs": [
        {
          "output_type": "stream",
          "text": [
            "On branch update_readme\n",
            "nothing to commit, working tree clean\n"
          ],
          "name": "stdout"
        }
      ]
    },
    {
      "cell_type": "code",
      "metadata": {
        "id": "VT5Ww6CjrV5G"
      },
      "source": [
        "# в локальном репозитории нет ветки develop создадим ее\n",
        "!git branch develop"
      ],
      "execution_count": 22,
      "outputs": []
    },
    {
      "cell_type": "code",
      "metadata": {
        "id": "exgweyMjk5hS",
        "outputId": "5e18a018-18b3-4a67-ff5a-77adb39516aa",
        "colab": {
          "base_uri": "https://localhost:8080/",
          "height": 85
        }
      },
      "source": [
        "# загрузим состояние ветки develop с репозитория на github \n",
        "!git pull origin-psk develop"
      ],
      "execution_count": 23,
      "outputs": [
        {
          "output_type": "stream",
          "text": [
            "From https://github.com/medphisiker/cvr_course\n",
            " * branch            develop    -> FETCH_HEAD\n",
            " * [new branch]      develop    -> origin-psk/develop\n",
            "Already up to date.\n"
          ],
          "name": "stdout"
        }
      ]
    },
    {
      "cell_type": "code",
      "metadata": {
        "id": "T8ePkovJqMsN",
        "outputId": "28a66c5c-08f5-4733-9039-b3b6bc6d000a",
        "colab": {
          "base_uri": "https://localhost:8080/",
          "height": 68
        }
      },
      "source": [
        "# посмотрим на какой мы ветке\n",
        "!git branch"
      ],
      "execution_count": 24,
      "outputs": [
        {
          "output_type": "stream",
          "text": [
            "  develop\u001b[m\n",
            "  main\u001b[m\n",
            "* \u001b[32mupdate_readme\u001b[m\n"
          ],
          "name": "stdout"
        }
      ]
    },
    {
      "cell_type": "code",
      "metadata": {
        "id": "vxBCnpE3wNrp",
        "outputId": "d6d836fd-a4e0-45b2-b65f-ae99e4f9e34c",
        "colab": {
          "base_uri": "https://localhost:8080/",
          "height": 34
        }
      },
      "source": [
        "# переключимся на ветку develop\n",
        "!git checkout develop"
      ],
      "execution_count": 25,
      "outputs": [
        {
          "output_type": "stream",
          "text": [
            "Switched to branch 'develop'\n"
          ],
          "name": "stdout"
        }
      ]
    },
    {
      "cell_type": "code",
      "metadata": {
        "id": "AQDkoEKhwbGS",
        "outputId": "21de1fb5-21e7-4fa4-b697-54bd001aacdb",
        "colab": {
          "base_uri": "https://localhost:8080/",
          "height": 68
        }
      },
      "source": [
        "# убедимся что переключились\n",
        "!git branch"
      ],
      "execution_count": 27,
      "outputs": [
        {
          "output_type": "stream",
          "text": [
            "* \u001b[32mdevelop\u001b[m\n",
            "  main\u001b[m\n",
            "  update_readme\u001b[m\n"
          ],
          "name": "stdout"
        }
      ]
    },
    {
      "cell_type": "code",
      "metadata": {
        "id": "VPb1JeZ2rSnv"
      },
      "source": [
        "# Сольем векту update_readme в ветку develop\n",
        "!git merge update_readme"
      ],
      "execution_count": null,
      "outputs": []
    },
    {
      "cell_type": "code",
      "metadata": {
        "id": "q89kAqJLsYJ1",
        "outputId": "858df1a3-c0a8-4874-96a1-9cdb3783cf47",
        "colab": {
          "base_uri": "https://localhost:8080/",
          "height": 51
        }
      },
      "source": [
        "# перейдем на ветку main\n",
        "!git checkout main"
      ],
      "execution_count": 29,
      "outputs": [
        {
          "output_type": "stream",
          "text": [
            "Switched to branch 'main'\n",
            "Your branch is up to date with 'origin/main'.\n"
          ],
          "name": "stdout"
        }
      ]
    },
    {
      "cell_type": "code",
      "metadata": {
        "id": "cHc-4oCAx0ah",
        "outputId": "bc37aa53-d50f-42fe-b109-feee7132bf7d",
        "colab": {
          "base_uri": "https://localhost:8080/",
          "height": 68
        }
      },
      "source": [
        "# убедимся что переключились\n",
        "!git branch"
      ],
      "execution_count": 30,
      "outputs": [
        {
          "output_type": "stream",
          "text": [
            "  develop\u001b[m\n",
            "* \u001b[32mmain\u001b[m\n",
            "  update_readme\u001b[m\n"
          ],
          "name": "stdout"
        }
      ]
    },
    {
      "cell_type": "code",
      "metadata": {
        "id": "mVUn_1Eys2qb",
        "outputId": "e22cb58a-8cab-45f1-bf0b-c2fb9d74ab2d",
        "colab": {
          "base_uri": "https://localhost:8080/",
          "height": 85
        }
      },
      "source": [
        "# Сольем векту develop в ветку main\n",
        "!git merge develop"
      ],
      "execution_count": 31,
      "outputs": [
        {
          "output_type": "stream",
          "text": [
            "Updating 25a704d..4c341ef\n",
            "Fast-forward\n",
            " README.md | 1 \u001b[32m+\u001b[m\n",
            " 1 file changed, 1 insertion(+)\n"
          ],
          "name": "stdout"
        }
      ]
    },
    {
      "cell_type": "code",
      "metadata": {
        "id": "F4VN0pljs7RW",
        "outputId": "314fc913-1d15-42c2-cb22-34b2d5930978",
        "colab": {
          "base_uri": "https://localhost:8080/",
          "height": 68
        }
      },
      "source": [
        "# отправим ветку main со всеми сделанными изменениями к себе на github\n",
        "!git push origin-psk main"
      ],
      "execution_count": 32,
      "outputs": [
        {
          "output_type": "stream",
          "text": [
            "Total 0 (delta 0), reused 0 (delta 0)\n",
            "To https://github.com/medphisiker/cvr_course.git\n",
            "   25a704d..4c341ef  main -> main\n"
          ],
          "name": "stdout"
        }
      ]
    },
    {
      "cell_type": "markdown",
      "metadata": {
        "id": "1pfejk55yN7n"
      },
      "source": [
        "ноутбук я сохранил к себе в репозиторий с помощью интерфейса google colab\n",
        "Файл -> Создать копию в GitHub\n",
        "\n"
      ]
    }
  ]
}